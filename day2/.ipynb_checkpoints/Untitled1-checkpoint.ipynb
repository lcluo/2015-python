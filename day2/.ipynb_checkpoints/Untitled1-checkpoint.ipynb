{
 "metadata": {
  "name": "",
  "signature": "sha256:618c8c81e9b7a684cc12f1c9a752bed7204260979b075d4819aac383c260260f"
 },
 "nbformat": 3,
 "nbformat_minor": 0,
 "worksheets": []
}