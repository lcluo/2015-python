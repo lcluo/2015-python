{
 "metadata": {
  "name": "",
  "signature": "sha256:71784f4388b0dc852821452ff419a8293ef5069c3d57e79048e1a04a87a3b3bc"
 },
 "nbformat": 3,
 "nbformat_minor": 0,
 "worksheets": [
  {
   "cells": [
    {
     "cell_type": "code",
     "collapsed": false,
     "input": [],
     "language": "python",
     "metadata": {},
     "outputs": [
      {
       "output_type": "stream",
       "stream": "stdout",
       "text": [
        "Assignment1.py   Untitled1.ipynb  exercise1.mdown\r\n",
        "Untitled0.ipynb  \u001b[34mbackup\u001b[m\u001b[m/          usda_blank.py\r\n"
       ]
      }
     ],
     "prompt_number": 1
    },
    {
     "cell_type": "code",
     "collapsed": false,
     "input": [
      "%run"
     ],
     "language": "python",
     "metadata": {},
     "outputs": [
      {
       "output_type": "stream",
       "stream": "stdout",
       "text": [
        "Assignment1.py   Untitled1.ipynb  exercise1.mdown\r\n",
        "Untitled0.ipynb  \u001b[34mbackup\u001b[m\u001b[m/          usda_blank.py\r\n"
       ]
      }
     ],
     "prompt_number": 2
    },
    {
     "cell_type": "code",
     "collapsed": false,
     "input": [],
     "language": "python",
     "metadata": {},
     "outputs": []
    }
   ],
   "metadata": {}
  }
 ]
}